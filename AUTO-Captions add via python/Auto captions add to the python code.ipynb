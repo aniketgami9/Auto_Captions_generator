{
 "cells": [
  {
   "cell_type": "markdown",
   "id": "44662d47",
   "metadata": {},
   "source": [
    "# Add Caption to the video by python code"
   ]
  },
  {
   "cell_type": "code",
   "execution_count": 3,
   "id": "bc576ded",
   "metadata": {},
   "outputs": [
    {
     "name": "stdout",
     "output_type": "stream",
     "text": [
      "MoviePy - Writing audio in temp_audio.wav\n"
     ]
    },
    {
     "name": "stderr",
     "output_type": "stream",
     "text": [
      "                                                                                                                       \r"
     ]
    },
    {
     "name": "stdout",
     "output_type": "stream",
     "text": [
      "MoviePy - Done.\n",
      "Transcription language: en\n",
      "Moviepy - Building video VIDEO_subtitled.mp4.\n",
      "MoviePy - Writing audio in VIDEO_subtitledTEMP_MPY_wvf_snd.mp4\n"
     ]
    },
    {
     "name": "stderr",
     "output_type": "stream",
     "text": [
      "                                                                                                                       \r"
     ]
    },
    {
     "name": "stdout",
     "output_type": "stream",
     "text": [
      "MoviePy - Done.\n",
      "Moviepy - Writing video VIDEO_subtitled.mp4\n",
      "\n"
     ]
    },
    {
     "name": "stderr",
     "output_type": "stream",
     "text": [
      "                                                                                                                       \r"
     ]
    },
    {
     "name": "stdout",
     "output_type": "stream",
     "text": [
      "Moviepy - Done !\n",
      "Moviepy - video ready VIDEO_subtitled.mp4\n",
      "Video with subtitles created successfully!\n"
     ]
    }
   ],
   "source": [
    "import os\n",
    "import math\n",
    "from moviepy.editor import VideoFileClip, TextClip, CompositeVideoClip\n",
    "from faster_whisper import WhisperModel\n",
    "\n",
    "\n",
    "\n",
    "def transcribe_audio(audio_file):\n",
    "    try:\n",
    "        model = WhisperModel(\"small\")\n",
    "        segments, info = model.transcribe(audio_file)\n",
    "        language = info[0]\n",
    "        print(\"Transcription language:\", language)\n",
    "        \n",
    "        subtitles = [(format_time(segment.start), format_time(segment.end), segment.text) for segment in segments]\n",
    "        \n",
    "        return language, subtitles\n",
    "    except Exception as e:\n",
    "        print(\"Error during transcription:\", e)\n",
    "        return None, []\n",
    "\n",
    "    \n",
    "    \n",
    "    \n",
    "def add_subtitles_to_video(video_file, subtitles):\n",
    "    try:\n",
    "        video = VideoFileClip(video_file)\n",
    "        \n",
    "        subtitle_clips = [TextClip(subtitle[2], fontsize=30, color='white', bg_color='black', font='Catamaran-Regular')\n",
    "                          .set_position(('center', 'bottom')).set_start(subtitle[0]).set_end(subtitle[1]) \n",
    "                          for subtitle in subtitles]\n",
    "        \n",
    "        video_with_subtitles = CompositeVideoClip([video] + subtitle_clips)\n",
    "        \n",
    "        return video_with_subtitles\n",
    "    except Exception as e:\n",
    "        print(\"Error while adding subtitles to video:\", e)\n",
    "        return None\n",
    "\n",
    "    \n",
    "    \n",
    "    \n",
    "def format_time(seconds):\n",
    "    hours = math.floor(seconds / 3600)\n",
    "    seconds %= 3600\n",
    "    minutes = math.floor(seconds / 60)\n",
    "    seconds %= 60\n",
    "    milliseconds = round((seconds - math.floor(seconds)) * 1000)\n",
    "    seconds = math.floor(seconds)\n",
    "    return f\"{hours:02d}:{minutes:02d}:{seconds:02d}.{milliseconds:03d}\"\n",
    "\n",
    "        \n",
    "        \n",
    "        \n",
    "def main(video_file):\n",
    "    try:\n",
    "        # Transcribe audio\n",
    "        audio_file = \"temp_audio.wav\"\n",
    "        video = VideoFileClip(video_file)\n",
    "        video.audio.write_audiofile(audio_file)\n",
    "        language, subtitles = transcribe_audio(audio_file)\n",
    "        \n",
    "        if subtitles:\n",
    "            # Add subtitles to video\n",
    "            video_with_subtitles = add_subtitles_to_video(video_file, subtitles)\n",
    "            \n",
    "            if video_with_subtitles:\n",
    "                # Save the video with subtitles\n",
    "                output_video_file = os.path.splitext(video_file)[0] + \"_subtitled.mp4\"\n",
    "                video_with_subtitles.write_videofile(output_video_file, codec='libx264', audio_codec='aac')\n",
    "                print(\"Video with subtitles created successfully!\")\n",
    "                return output_video_file\n",
    "        else:\n",
    "            print(\"No subtitles generated.\")\n",
    "    finally:\n",
    "        # Clean up temporary audio file\n",
    "        if os.path.exists(audio_file):\n",
    "            os.remove(audio_file)\n",
    "\n",
    "            \n",
    "            \n",
    "if __name__ == \"__main__\":\n",
    "    video_file = \"V2.mp4\"\n",
    "    main(video_file)\n"
   ]
  },
  {
   "cell_type": "code",
   "execution_count": null,
   "id": "d391f29c",
   "metadata": {},
   "outputs": [],
   "source": []
  }
 ],
 "metadata": {
  "kernelspec": {
   "display_name": "Python 3 (ipykernel)",
   "language": "python",
   "name": "python3"
  },
  "language_info": {
   "codemirror_mode": {
    "name": "ipython",
    "version": 3
   },
   "file_extension": ".py",
   "mimetype": "text/x-python",
   "name": "python",
   "nbconvert_exporter": "python",
   "pygments_lexer": "ipython3",
   "version": "3.11.5"
  }
 },
 "nbformat": 4,
 "nbformat_minor": 5
}
